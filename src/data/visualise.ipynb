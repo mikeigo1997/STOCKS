{
 "cells": [
  {
   "cell_type": "code",
   "execution_count": 1,
   "metadata": {},
   "outputs": [],
   "source": [
    "import pandas as pd\n",
    "import seaborn as sns"
   ]
  },
  {
   "cell_type": "code",
   "execution_count": 2,
   "metadata": {},
   "outputs": [],
   "source": [
    "stock_code = \"1925\"\n",
    "df = pd.read_csv(f\"./{stock_code}.csv\")\n",
    "df.index = df[\"date\"]\n",
    "\n",
    "close = df[\"Close\"]"
   ]
  },
  {
   "cell_type": "markdown",
   "metadata": {},
   "source": [
    "## 前処理"
   ]
  },
  {
   "cell_type": "code",
   "execution_count": 3,
   "metadata": {},
   "outputs": [],
   "source": [
    "df[\"price_1day_later\"] = df[\"Close\"].shift(1, fill_value=0)\n",
    "df[\"price_5day_later\"] = df[\"Close\"].shift(5, fill_value=0)\n",
    "\n",
    "df.loc[df[\"Close\"] <= df[\"price_1day_later\"], \"y_1\"] = \"UP\"\n",
    "df.loc[df[\"Close\"]  > df[\"price_1day_later\"], \"y_1\"] = \"DOWN\"\n",
    "df.loc[df[\"Close\"] <= df[\"price_5day_later\"], \"y_2\"] = \"UP\"\n",
    "df.loc[df[\"Close\"]  > df[\"price_5day_later\"], \"y_2\"] = \"DOWN\""
   ]
  },
  {
   "cell_type": "code",
   "execution_count": 4,
   "metadata": {},
   "outputs": [
    {
     "data": {
      "text/html": [
       "<div>\n",
       "<style scoped>\n",
       "    .dataframe tbody tr th:only-of-type {\n",
       "        vertical-align: middle;\n",
       "    }\n",
       "\n",
       "    .dataframe tbody tr th {\n",
       "        vertical-align: top;\n",
       "    }\n",
       "\n",
       "    .dataframe thead th {\n",
       "        text-align: right;\n",
       "    }\n",
       "</style>\n",
       "<table border=\"1\" class=\"dataframe\">\n",
       "  <thead>\n",
       "    <tr style=\"text-align: right;\">\n",
       "      <th></th>\n",
       "      <th>Open</th>\n",
       "      <th>High</th>\n",
       "      <th>Low</th>\n",
       "      <th>Close</th>\n",
       "      <th>Volume</th>\n",
       "      <th>date</th>\n",
       "      <th>price_1day_later</th>\n",
       "      <th>price_5day_later</th>\n",
       "      <th>y_1</th>\n",
       "      <th>y_2</th>\n",
       "    </tr>\n",
       "    <tr>\n",
       "      <th>date</th>\n",
       "      <th></th>\n",
       "      <th></th>\n",
       "      <th></th>\n",
       "      <th></th>\n",
       "      <th></th>\n",
       "      <th></th>\n",
       "      <th></th>\n",
       "      <th></th>\n",
       "      <th></th>\n",
       "      <th></th>\n",
       "    </tr>\n",
       "  </thead>\n",
       "  <tbody>\n",
       "    <tr>\n",
       "      <th>2022-03-16</th>\n",
       "      <td>3110.00</td>\n",
       "      <td>3137.00</td>\n",
       "      <td>3088.00</td>\n",
       "      <td>3117.00</td>\n",
       "      <td>2511300</td>\n",
       "      <td>2022-03-16</td>\n",
       "      <td>0.00</td>\n",
       "      <td>0.00</td>\n",
       "      <td>DOWN</td>\n",
       "      <td>DOWN</td>\n",
       "    </tr>\n",
       "    <tr>\n",
       "      <th>2022-03-15</th>\n",
       "      <td>3109.00</td>\n",
       "      <td>3131.00</td>\n",
       "      <td>3085.00</td>\n",
       "      <td>3094.00</td>\n",
       "      <td>2123000</td>\n",
       "      <td>2022-03-15</td>\n",
       "      <td>3117.00</td>\n",
       "      <td>0.00</td>\n",
       "      <td>UP</td>\n",
       "      <td>DOWN</td>\n",
       "    </tr>\n",
       "    <tr>\n",
       "      <th>2022-03-14</th>\n",
       "      <td>3110.00</td>\n",
       "      <td>3138.00</td>\n",
       "      <td>3078.00</td>\n",
       "      <td>3106.00</td>\n",
       "      <td>1443600</td>\n",
       "      <td>2022-03-14</td>\n",
       "      <td>3094.00</td>\n",
       "      <td>0.00</td>\n",
       "      <td>DOWN</td>\n",
       "      <td>DOWN</td>\n",
       "    </tr>\n",
       "    <tr>\n",
       "      <th>2022-03-11</th>\n",
       "      <td>3127.00</td>\n",
       "      <td>3133.00</td>\n",
       "      <td>3060.00</td>\n",
       "      <td>3075.00</td>\n",
       "      <td>1945400</td>\n",
       "      <td>2022-03-11</td>\n",
       "      <td>3106.00</td>\n",
       "      <td>0.00</td>\n",
       "      <td>UP</td>\n",
       "      <td>DOWN</td>\n",
       "    </tr>\n",
       "    <tr>\n",
       "      <th>2022-03-10</th>\n",
       "      <td>3106.00</td>\n",
       "      <td>3183.00</td>\n",
       "      <td>3086.00</td>\n",
       "      <td>3177.00</td>\n",
       "      <td>1749800</td>\n",
       "      <td>2022-03-10</td>\n",
       "      <td>3075.00</td>\n",
       "      <td>0.00</td>\n",
       "      <td>DOWN</td>\n",
       "      <td>DOWN</td>\n",
       "    </tr>\n",
       "    <tr>\n",
       "      <th>...</th>\n",
       "      <td>...</td>\n",
       "      <td>...</td>\n",
       "      <td>...</td>\n",
       "      <td>...</td>\n",
       "      <td>...</td>\n",
       "      <td>...</td>\n",
       "      <td>...</td>\n",
       "      <td>...</td>\n",
       "      <td>...</td>\n",
       "      <td>...</td>\n",
       "    </tr>\n",
       "    <tr>\n",
       "      <th>2017-03-27</th>\n",
       "      <td>2762.55</td>\n",
       "      <td>2778.83</td>\n",
       "      <td>2736.83</td>\n",
       "      <td>2742.83</td>\n",
       "      <td>1890358</td>\n",
       "      <td>2017-03-27</td>\n",
       "      <td>2783.98</td>\n",
       "      <td>2763.98</td>\n",
       "      <td>UP</td>\n",
       "      <td>UP</td>\n",
       "    </tr>\n",
       "    <tr>\n",
       "      <th>2017-03-24</th>\n",
       "      <td>2773.69</td>\n",
       "      <td>2794.26</td>\n",
       "      <td>2757.41</td>\n",
       "      <td>2786.56</td>\n",
       "      <td>2271393</td>\n",
       "      <td>2017-03-24</td>\n",
       "      <td>2742.83</td>\n",
       "      <td>2778.77</td>\n",
       "      <td>DOWN</td>\n",
       "      <td>DOWN</td>\n",
       "    </tr>\n",
       "    <tr>\n",
       "      <th>2017-03-23</th>\n",
       "      <td>2753.12</td>\n",
       "      <td>2785.69</td>\n",
       "      <td>2748.83</td>\n",
       "      <td>2780.56</td>\n",
       "      <td>1432814</td>\n",
       "      <td>2017-03-23</td>\n",
       "      <td>2786.56</td>\n",
       "      <td>2764.86</td>\n",
       "      <td>UP</td>\n",
       "      <td>DOWN</td>\n",
       "    </tr>\n",
       "    <tr>\n",
       "      <th>2017-03-22</th>\n",
       "      <td>2762.55</td>\n",
       "      <td>2800.26</td>\n",
       "      <td>2756.55</td>\n",
       "      <td>2770.26</td>\n",
       "      <td>1913453</td>\n",
       "      <td>2017-03-22</td>\n",
       "      <td>2780.56</td>\n",
       "      <td>2806.61</td>\n",
       "      <td>UP</td>\n",
       "      <td>UP</td>\n",
       "    </tr>\n",
       "    <tr>\n",
       "      <th>2017-03-21</th>\n",
       "      <td>2808.00</td>\n",
       "      <td>2813.13</td>\n",
       "      <td>2783.98</td>\n",
       "      <td>2802.00</td>\n",
       "      <td>1800902</td>\n",
       "      <td>2017-03-21</td>\n",
       "      <td>2770.26</td>\n",
       "      <td>2783.98</td>\n",
       "      <td>DOWN</td>\n",
       "      <td>DOWN</td>\n",
       "    </tr>\n",
       "  </tbody>\n",
       "</table>\n",
       "<p>1217 rows × 10 columns</p>\n",
       "</div>"
      ],
      "text/plain": [
       "               Open     High      Low    Close   Volume        date  \\\n",
       "date                                                                  \n",
       "2022-03-16  3110.00  3137.00  3088.00  3117.00  2511300  2022-03-16   \n",
       "2022-03-15  3109.00  3131.00  3085.00  3094.00  2123000  2022-03-15   \n",
       "2022-03-14  3110.00  3138.00  3078.00  3106.00  1443600  2022-03-14   \n",
       "2022-03-11  3127.00  3133.00  3060.00  3075.00  1945400  2022-03-11   \n",
       "2022-03-10  3106.00  3183.00  3086.00  3177.00  1749800  2022-03-10   \n",
       "...             ...      ...      ...      ...      ...         ...   \n",
       "2017-03-27  2762.55  2778.83  2736.83  2742.83  1890358  2017-03-27   \n",
       "2017-03-24  2773.69  2794.26  2757.41  2786.56  2271393  2017-03-24   \n",
       "2017-03-23  2753.12  2785.69  2748.83  2780.56  1432814  2017-03-23   \n",
       "2017-03-22  2762.55  2800.26  2756.55  2770.26  1913453  2017-03-22   \n",
       "2017-03-21  2808.00  2813.13  2783.98  2802.00  1800902  2017-03-21   \n",
       "\n",
       "            price_1day_later  price_5day_later   y_1   y_2  \n",
       "date                                                        \n",
       "2022-03-16              0.00              0.00  DOWN  DOWN  \n",
       "2022-03-15           3117.00              0.00    UP  DOWN  \n",
       "2022-03-14           3094.00              0.00  DOWN  DOWN  \n",
       "2022-03-11           3106.00              0.00    UP  DOWN  \n",
       "2022-03-10           3075.00              0.00  DOWN  DOWN  \n",
       "...                      ...               ...   ...   ...  \n",
       "2017-03-27           2783.98           2763.98    UP    UP  \n",
       "2017-03-24           2742.83           2778.77  DOWN  DOWN  \n",
       "2017-03-23           2786.56           2764.86    UP  DOWN  \n",
       "2017-03-22           2780.56           2806.61    UP    UP  \n",
       "2017-03-21           2770.26           2783.98  DOWN  DOWN  \n",
       "\n",
       "[1217 rows x 10 columns]"
      ]
     },
     "execution_count": 4,
     "metadata": {},
     "output_type": "execute_result"
    }
   ],
   "source": [
    "df"
   ]
  },
  {
   "cell_type": "markdown",
   "metadata": {},
   "source": [
    "## 分布の確認"
   ]
  },
  {
   "cell_type": "code",
   "execution_count": 17,
   "metadata": {},
   "outputs": [
    {
     "name": "stderr",
     "output_type": "stream",
     "text": [
      "C:\\Users\\lovep\\anaconda3\\lib\\site-packages\\seaborn\\distributions.py:2551: FutureWarning: `distplot` is a deprecated function and will be removed in a future version. Please adapt your code to use either `displot` (a figure-level function with similar flexibility) or `histplot` (an axes-level function for histograms).\n",
      "  warnings.warn(msg, FutureWarning)\n"
     ]
    },
    {
     "data": {
      "text/plain": [
       "<AxesSubplot:xlabel='Close', ylabel='Density'>"
      ]
     },
     "execution_count": 17,
     "metadata": {},
     "output_type": "execute_result"
    },
    {
     "data": {
      "image/png": "[encoded data removed]",
      "text/plain": [
       "<Figure size 432x288 with 1 Axes>"
      ]
     },
     "metadata": {
      "needs_background": "light"
     },
     "output_type": "display_data"
    }
   ],
   "source": [
    "sns.distplot(close)"
   ]
  },
  {
   "cell_type": "code",
   "execution_count": 20,
   "metadata": {},
   "outputs": [
    {
     "data": {
      "text/plain": [
       "<AxesSubplot:xlabel='date', ylabel='Close'>"
      ]
     },
     "execution_count": 20,
     "metadata": {},
     "output_type": "execute_result"
    },
    {
     "data": {
      "image/png": "[encoded data removed]",
      "text/plain": [
       "<Figure size 432x288 with 1 Axes>"
      ]
     },
     "metadata": {
      "needs_background": "light"
     },
     "output_type": "display_data"
    }
   ],
   "source": [
    "sns.lineplot(data=df, x=\"date\", y=\"Close\")"
   ]
  },
  {
   "cell_type": "code",
   "execution_count": 19,
   "metadata": {},
   "outputs": [
    {
     "data": {
      "text/plain": [
       "date\n",
       "2022-03-16    3117.00\n",
       "2022-03-15    3094.00\n",
       "2022-03-14    3106.00\n",
       "2022-03-11    3075.00\n",
       "2022-03-10    3177.00\n",
       "               ...   \n",
       "2017-03-27    2742.83\n",
       "2017-03-24    2786.56\n",
       "2017-03-23    2780.56\n",
       "2017-03-22    2770.26\n",
       "2017-03-21    2802.00\n",
       "Name: Close, Length: 1217, dtype: float64"
      ]
     },
     "execution_count": 19,
     "metadata": {},
     "output_type": "execute_result"
    }
   ],
   "source": [
    "close"
   ]
  },
  {
   "cell_type": "code",
   "execution_count": null,
   "metadata": {},
   "outputs": [],
   "source": []
  }
 ],
 "metadata": {
  "kernelspec": {
   "display_name": "Python 3",
   "language": "python",
   "name": "python3"
  },
  "language_info": {
   "codemirror_mode": {
    "name": "ipython",
    "version": 3
   },
   "file_extension": ".py",
   "mimetype": "text/x-python",
   "name": "python",
   "nbconvert_exporter": "python",
   "pygments_lexer": "ipython3",
   "version": "3.8.5"
  }
 },
 "nbformat": 4,
 "nbformat_minor": 4
}
